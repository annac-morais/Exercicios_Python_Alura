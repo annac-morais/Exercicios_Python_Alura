{
  "nbformat": 4,
  "nbformat_minor": 0,
  "metadata": {
    "colab": {
      "provenance": [],
      "authorship_tag": "ABX9TyPGa0mGzE1QIcd/69NrV39I",
      "include_colab_link": true
    },
    "kernelspec": {
      "name": "python3",
      "display_name": "Python 3"
    },
    "language_info": {
      "name": "python"
    }
  },
  "cells": [
    {
      "cell_type": "markdown",
      "metadata": {
        "id": "view-in-github",
        "colab_type": "text"
      },
      "source": [
        "<a href=\"https://colab.research.google.com/github/annac-morais/Exercicios_Python_Alura/blob/main/POO_Alura14_Annac.ipynb\" target=\"_parent\"><img src=\"https://colab.research.google.com/assets/colab-badge.svg\" alt=\"Open In Colab\"/></a>"
      ]
    },
    {
      "cell_type": "markdown",
      "source": [
        "# **Coleções**"
      ],
      "metadata": {
        "id": "IOq8B72rIL3g"
      }
    },
    {
      "cell_type": "code",
      "source": [
        "# @title Sequência -> MutableSequence:\n",
        "\n",
        "from collections.abc import MutableSequence # importa uma classe abstrata que define o comportamento de uma sequência mutável, tipo uma lista customizada\n",
        "\n",
        "class Conta:\n",
        "    def __init__(self, titular, numero, saldo=0.0):\n",
        "        self.titular = titular\n",
        "        self.numero = numero\n",
        "        self.saldo = saldo\n",
        "\n",
        "    def get_valor_imposto(self):\n",
        "        return 0\n",
        "\n",
        "class ContaCorrente(Conta):\n",
        "    def get_valor_imposto(self):\n",
        "        return self.saldo * 0.01\n",
        "\n",
        "class Contas(MutableSequence):\n",
        "    _dados = []\n",
        "\n",
        "    def __len__(self):\n",
        "        return len(self._dados) # Retorna quantos itens tem\n",
        "\n",
        "    def __getitem__(self, posicao):\n",
        "        return self._dados[posicao] # Pega um item da lista (como contas[0])\n",
        "\n",
        "    def __setitem__(self, posicao, valor):\n",
        "        if isinstance(valor, Conta):\n",
        "            self._dados[posicao] = valor # Substitui um item, mas antes verifica se o valor é uma Conta\n",
        "        else:\n",
        "            raise TypeError(\"valor atribuído não é uma Conta\")\n",
        "\n",
        "    def __delitem__(self, posicao):\n",
        "        del self._dados[posicao] # Remove um item\n",
        "\n",
        "    def insert(self, posicao, valor):\n",
        "        if isinstance(valor, Conta):\n",
        "            self._dados.insert(posicao, valor) # Insere um item em uma posição, com a mesma verificação\n",
        "        else:\n",
        "            raise TypeError(\"valor inserido não é uma Conta\")\n",
        "\n",
        "# EXEMPLO DE USO:\n",
        "\n",
        "if __name__ == '__main__':\n",
        "    contas = Contas()\n",
        "    contas.append(ContaCorrente('João', '123-4', 1200.0))\n",
        "    contas.append(ContaCorrente('Maria', '234-5', 2200.0))\n",
        "    contas.append(ContaCorrente('Ana', '345-6', 1500.0))\n",
        "\n",
        "    print('saldo - imposto')\n",
        "    for conta in contas:\n",
        "        print(f'{conta.saldo} - {conta.get_valor_imposto()}')"
      ],
      "metadata": {
        "colab": {
          "base_uri": "https://localhost:8080/"
        },
        "id": "ysXoe7GG-x5M",
        "outputId": "a03bfc41-2f49-4847-8dc3-5fe48b47a4fd"
      },
      "execution_count": null,
      "outputs": [
        {
          "output_type": "stream",
          "name": "stdout",
          "text": [
            "saldo - imposto\n",
            "1200.0 - 12.0\n",
            "2200.0 - 22.0\n",
            "1500.0 - 15.0\n"
          ]
        }
      ]
    },
    {
      "cell_type": "code",
      "source": [
        "# @title Sequência -> MutableMapping:\n",
        "\n",
        "from collections.abc import MutableMapping # MutableMapping funciona como um dicionário mutável, ou seja, você pode armazenar pares chave: valor.\n",
        "import csv # arquivo de texto simples que armazena dados tabulares\n",
        "\n",
        "# Classe Conta básica\n",
        "class Conta:\n",
        "    def __init__(self, titular, numero, saldo=0.0):\n",
        "        self.titular = titular\n",
        "        self.numero = numero\n",
        "        self.saldo = saldo\n",
        "\n",
        "    def get_valor_imposto(self):\n",
        "        # Exemplo: 1% do saldo como imposto\n",
        "        return self.saldo * 0.01\n",
        "\n",
        "    def __repr__(self): # facilita a impressão para debugging.\n",
        "        return f\"<Conta {self.numero} de {self.titular}, saldo={self.saldo}>\"\n",
        "\n",
        "# Classe Contas que implementa MutableMapping (como um dicionário)\n",
        "class Contas(MutableMapping):\n",
        "    def __init__(self):\n",
        "        self._dados = {}\n",
        "\n",
        "    def __getitem__(self, chave):\n",
        "        return self._dados[chave]\n",
        "\n",
        "    def __setitem__(self, chave, valor):\n",
        "        if not isinstance(valor, Conta):\n",
        "            raise TypeError(\"valor atribuído não é uma Conta\")\n",
        "        self._dados[chave] = valor\n",
        "\n",
        "    def __delitem__(self, chave):\n",
        "        del self._dados[chave]\n",
        "\n",
        "    def __iter__(self):\n",
        "        return iter(self._dados)\n",
        "\n",
        "    def __len__(self):\n",
        "        return len(self._dados)\n",
        "\n",
        "    def __repr__(self):\n",
        "        return f\"{self.__class__.__name__}({self._dados})\"\n",
        "\n",
        "# EXEMPLO DE USO:\n",
        "\n",
        "if __name__ == \"__main__\":\n",
        "    contas = Contas()\n",
        "\n",
        "    c1 = Conta(\"João\", \"123-4\", 1200.0)\n",
        "    c2 = Conta(\"Maria\", \"567-8\", 2500.0)\n",
        "    contas[c1.numero] = c1\n",
        "    contas[c2.numero] = c2\n",
        "\n",
        "    print(f\"Total de contas: {len(contas)}\")\n",
        "\n",
        "    # Acessar conta pelo número\n",
        "    conta_joao = contas[\"123-4\"]\n",
        "    print(f\"Conta do João: saldo={conta_joao.saldo}, imposto={conta_joao.get_valor_imposto()}\")\n",
        "\n",
        "    # Iterar e imprimir saldo e imposto de todas as contas\n",
        "    for numero in contas:\n",
        "        conta = contas[numero]\n",
        "        print(f\"{numero}: saldo={conta.saldo}, imposto={conta.get_valor_imposto()}\")\n",
        "\n",
        "    # Leitura do arquivo CSV (contas.txt) e carregamento na estrutura Contas\n",
        "    # O arquivo 'contas.txt' deve ter linhas com: titular,numero,saldo\n",
        "    try:\n",
        "        with open(\"contas.txt\", \"r\") as arquivo:\n",
        "            leitor = csv.reader(arquivo)\n",
        "            for linha in leitor:\n",
        "                titular, numero, saldo = linha[0], linha[1], float(linha[2])\n",
        "                conta = Conta(titular, numero, saldo)\n",
        "                contas[numero] = conta\n",
        "    except FileNotFoundError:\n",
        "        print(\"Arquivo 'contas.txt' não encontrado. Pule a leitura do arquivo.\")\n",
        "\n",
        "    print(\"\\nContas carregadas do arquivo:\")\n",
        "    for conta in contas.values():\n",
        "        print(conta)\n"
      ],
      "metadata": {
        "colab": {
          "base_uri": "https://localhost:8080/"
        },
        "id": "01wWdP4oAHV7",
        "outputId": "c00ba44a-9de2-4e05-80fb-639c88ff2318"
      },
      "execution_count": null,
      "outputs": [
        {
          "output_type": "stream",
          "name": "stdout",
          "text": [
            "Total de contas: 2\n",
            "Conta do João: saldo=1200.0, imposto=12.0\n",
            "123-4: saldo=1200.0, imposto=12.0\n",
            "567-8: saldo=2500.0, imposto=25.0\n",
            "Arquivo 'contas.txt' não encontrado. Pule a leitura do arquivo.\n",
            "\n",
            "Contas carregadas do arquivo:\n",
            "<Conta 123-4 de João, saldo=1200.0>\n",
            "<Conta 567-8 de Maria, saldo=2500.0>\n"
          ]
        }
      ]
    }
  ]
}
