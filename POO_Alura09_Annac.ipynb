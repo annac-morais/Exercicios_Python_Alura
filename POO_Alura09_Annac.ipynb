{
  "nbformat": 4,
  "nbformat_minor": 0,
  "metadata": {
    "colab": {
      "provenance": [],
      "authorship_tag": "ABX9TyNvoYoLMvdoJBIQj3QflGzp",
      "include_colab_link": true
    },
    "kernelspec": {
      "name": "python3",
      "display_name": "Python 3"
    },
    "language_info": {
      "name": "python"
    }
  },
  "cells": [
    {
      "cell_type": "markdown",
      "metadata": {
        "id": "view-in-github",
        "colab_type": "text"
      },
      "source": [
        "<a href=\"https://colab.research.google.com/github/annac-morais/Exercicios_Python_Alura/blob/main/POO_Alura09_Annac.ipynb\" target=\"_parent\"><img src=\"https://colab.research.google.com/assets/colab-badge.svg\" alt=\"Open In Colab\"/></a>"
      ]
    },
    {
      "cell_type": "markdown",
      "source": [],
      "metadata": {
        "id": "_pIcnQl5OOaa"
      }
    },
    {
      "cell_type": "markdown",
      "source": [
        "# **Encapsulamento**\n"
      ],
      "metadata": {
        "id": "aBl17J7LJftV"
      }
    },
    {
      "cell_type": "code",
      "execution_count": null,
      "metadata": {
        "colab": {
          "base_uri": "https://localhost:8080/"
        },
        "id": "wSF4wWapJLrh",
        "outputId": "82ecf4bb-6ecd-441c-efe1-3766afa21970"
      },
      "outputs": [
        {
          "output_type": "stream",
          "name": "stdout",
          "text": [
            "Saldo c1: 500.0\n",
            "Depósito de R$100 realizado com sucesso.\n",
            "Saldo c1: 600.0\n",
            "Saque de R$200 realizado com sucesso.\n",
            "Saldo c1: 400.0\n",
            "Saque de R$300 realizado com sucesso.\n",
            "Depósito de R$300 realizado com sucesso.\n",
            "Transferência de R$300 realizada para a conta 002.\n",
            "Saldo c1: 100.0\n",
            "Saldo c2: 1300.0\n"
          ]
        }
      ],
      "source": [
        "class Conta:\n",
        "    __slots__ = ['_numero', '_titular', '_saldo', '_limite', 'id'] # Slots não permite que usuários criem outros atributos\n",
        "    _proximo_id = 1  # Atributo de classe para gerar um id automático e único\n",
        "\n",
        "    def __init__(self, numero, titular, saldo, limite=1000.0):\n",
        "        self._numero = numero\n",
        "        self._titular = titular\n",
        "        self._saldo = saldo\n",
        "        self._limite = limite\n",
        "\n",
        "        self.id = Conta._proximo_id\n",
        "        Conta._proximo_id += 1  # Incrementa o id para o próximo objeto\n",
        "\n",
        "    # Getter e Setter para saldo\n",
        "    @property # Permite acesso a leitura controlado\n",
        "    def saldo(self):\n",
        "        return self._saldo\n",
        "\n",
        "    @saldo.setter # Valida para não permitir saldo negativo\n",
        "    def saldo(self, novo_saldo):\n",
        "        if novo_saldo < 0:\n",
        "            print(\"Saldo não pode ser negativo.\")\n",
        "        else:\n",
        "            self._saldo = novo_saldo\n",
        "\n",
        "    @property\n",
        "    def numero(self):\n",
        "        return self._numero\n",
        "\n",
        "    @property\n",
        "    def limite(self):\n",
        "        return self._limite\n",
        "\n",
        "    @limite.setter\n",
        "    def limite(self, novo_limite):\n",
        "        if novo_limite < 0:\n",
        "            print(\"Limite não pode ser negativo.\")\n",
        "        else:\n",
        "            self._limite = novo_limite\n",
        "\n",
        "    # Método para sacar\n",
        "    def sacar(self, valor):\n",
        "        if valor <= (self._saldo + self._limite):\n",
        "            self._saldo -= valor\n",
        "            print(f\"Saque de R${valor} realizado com sucesso.\")\n",
        "        else:\n",
        "            print(\"Saldo insuficiente para saque.\")\n",
        "\n",
        "    # Método para depositar\n",
        "    def depositar(self, valor):\n",
        "        if valor > 0:\n",
        "            self._saldo += valor\n",
        "            print(f\"Depósito de R${valor} realizado com sucesso.\")\n",
        "        else:\n",
        "            print(\"Valor de depósito inválido.\")\n",
        "\n",
        "    # Método para transferir\n",
        "    def transferir(self, valor, destino):\n",
        "        if isinstance(destino, Conta): # Verifica se destino é uma instância de 'Conta'\n",
        "            if valor <= (self._saldo + self._limite):\n",
        "                self.sacar(valor)\n",
        "                destino.depositar(valor)\n",
        "                print(f\"Transferência de R${valor} realizada para a conta {destino.numero}.\")\n",
        "            else:\n",
        "                print(\"Saldo insuficiente para transferência.\")\n",
        "        else:\n",
        "            print(\"Destino inválido.\")\n",
        "\n",
        "\n",
        "# EXEMPLO DE USO\n",
        "\n",
        "c1 = Conta(\"001\", \"João\", 500.0)\n",
        "c2 = Conta(\"002\", \"Maria\", 1000.0)\n",
        "\n",
        "print(\"Saldo c1:\", c1.saldo)\n",
        "c1.depositar(100)    # +100\n",
        "print(\"Saldo c1:\", c1.saldo)\n",
        "\n",
        "c1.sacar(200)        # -200\n",
        "print(\"Saldo c1:\", c1.saldo)\n",
        "\n",
        "c1.transferir(300, c2)\n",
        "print(\"Saldo c1:\", c1.saldo)\n",
        "print(\"Saldo c2:\", c2.saldo)"
      ]
    }
  ]
}