{
  "nbformat": 4,
  "nbformat_minor": 0,
  "metadata": {
    "colab": {
      "provenance": [],
      "authorship_tag": "ABX9TyOJAdYxIz7BtTVzD/1msENh",
      "include_colab_link": true
    },
    "kernelspec": {
      "name": "python3",
      "display_name": "Python 3"
    },
    "language_info": {
      "name": "python"
    }
  },
  "cells": [
    {
      "cell_type": "markdown",
      "metadata": {
        "id": "view-in-github",
        "colab_type": "text"
      },
      "source": [
        "<a href=\"https://colab.research.google.com/github/annac-morais/Exercicios_Python_Alura/blob/main/POO_Alura08_Annac.ipynb\" target=\"_parent\"><img src=\"https://colab.research.google.com/assets/colab-badge.svg\" alt=\"Open In Colab\"/></a>"
      ]
    },
    {
      "cell_type": "markdown",
      "source": [
        "# **Orientação a Objetos**"
      ],
      "metadata": {
        "id": "fNYlVxJ7_Ucd"
      }
    },
    {
      "cell_type": "code",
      "execution_count": null,
      "metadata": {
        "id": "Ta70U78Z9Jy5",
        "colab": {
          "base_uri": "https://localhost:8080/"
        },
        "outputId": "da68fb09-7109-44a3-ca6d-6e6c61f1abd1"
      },
      "outputs": [
        {
          "output_type": "stream",
          "name": "stdout",
          "text": [
            "Número: 123-7 \n",
            "Saldo: 550.0\n",
            "Número: 123-7 \n",
            "Saldo: 530.0\n"
          ]
        }
      ],
      "source": [
        "# @title Criando uma Conta:\n",
        "\n",
        "class Conta:\n",
        "    def __init__(self, numero, titular, saldo, limite): # Método construtor init para inicializar os atributos da conta.\n",
        "        self.numero = numero\n",
        "        self.titular = titular\n",
        "        self.saldo = saldo\n",
        "        self.limite = limite\n",
        "\n",
        "    def deposita(self, valor): # Método para depositar um valor na conta\n",
        "        self.saldo += valor\n",
        "\n",
        "    def saca(self, valor): # Método para sacar um valor da conta.\n",
        "        self.saldo -= valor\n",
        "\n",
        "    def extrato(self): # Método para exibir o extrato da conta.\n",
        "        print(f\"Número: {self.numero} \\nSaldo: {self.saldo}\")\n",
        "\n",
        "\n",
        "# EXEMPLO DE USO\n",
        "conta = Conta('123-7', 'João', 500.0, 1000.0)\n",
        "\n",
        "conta.deposita(50.0)\n",
        "conta.extrato()  # saldo: 550.0\n",
        "\n",
        "conta.saca(20.0)\n",
        "conta.extrato()  # saldo: 530.0"
      ]
    },
    {
      "cell_type": "code",
      "source": [
        "# @title Primeira classe Python:\n",
        "\n",
        "class Cliente:\n",
        "    def __init__(self, nome, sobrenome, cpf):\n",
        "        self.nome = nome\n",
        "        self.sobrenome = sobrenome\n",
        "        self.cpf = cpf\n",
        "\n",
        "    def __str__(self): # Define como o objeto será exibido\n",
        "        return f\"{self.nome} {self.sobrenome} (CPF: {self.cpf})\" # Retorna uma string representando o cliente de forma legível\n",
        "\n",
        "class Data:\n",
        "    def __init__(self, dia, mes, ano):\n",
        "        self.dia = dia\n",
        "        self.mes = mes\n",
        "        self.ano = ano\n",
        "\n",
        "    def __str__(self):\n",
        "        return f\"{self.dia:02d}/{self.mes:02d}/{self.ano}\" # Data formatada no padrão DD/MM/AAAA\n",
        "\n",
        "class Conta:\n",
        "    def __init__(self, numero, titular, saldo, limite, data_abertura):\n",
        "        self.numero = numero\n",
        "        self.titular = titular\n",
        "        self.saldo = saldo\n",
        "        self.limite = limite\n",
        "        self.data_abertura = data_abertura\n",
        "\n",
        "    def deposita(self, valor):\n",
        "        # Adiciona um valor ao saldo da conta\n",
        "        self.saldo += valor\n",
        "\n",
        "    def saca(self, valor):\n",
        "        # Verifica se o saque é possível considerando o limite\n",
        "        if valor <= self.saldo + self.limite:\n",
        "            self.saldo -= valor\n",
        "        else:\n",
        "            print(\"Saldo insuficiente.\")\n",
        "\n",
        "    def extrato(self):\n",
        "        # Imprime as informações da conta, incluindo os dados do titular\n",
        "        print(f\"Número: {self.numero}\")\n",
        "        print(f\"Saldo: R${self.saldo:.2f}\")\n",
        "        print(f\"Titular: {self.titular}\")\n",
        "        print(f\"Data de Abertura: {self.data_abertura}\")\n",
        "\n",
        "\n",
        "# EXEMPLO DE USO\n",
        "\n",
        "cliente1 = Cliente(\"João\", \"Silva\", \"123.456.789-00\")\n",
        "data_abertura = Data(19, 5, 2025)\n",
        "conta1 = Conta(\"123-7\", cliente1, 500.0, 1000.0, data_abertura)\n",
        "\n",
        "print(\"\\n- Depósito de R$50,00 -\")\n",
        "conta1.deposita(50.0)\n",
        "\n",
        "print(\"\\nExtrato:\")\n",
        "conta1.extrato()\n",
        "\n",
        "print(\"\\n- Saque de R$20,00 -\")\n",
        "conta1.saca(20.0)\n",
        "\n",
        "print(\"\\nExtrato:\")\n",
        "conta1.extrato()"
      ],
      "metadata": {
        "colab": {
          "base_uri": "https://localhost:8080/"
        },
        "id": "DI_0VLPqCwiw",
        "outputId": "6eb394f2-4f77-4e4a-e17e-58c52a6f3a89"
      },
      "execution_count": null,
      "outputs": [
        {
          "output_type": "stream",
          "name": "stdout",
          "text": [
            "\n",
            "- Depósito de R$50,00 -\n",
            "\n",
            "Extrato:\n",
            "Número: 123-7\n",
            "Saldo: R$550.00\n",
            "Titular: João Silva (CPF: 123.456.789-00)\n",
            "Data de Abertura: 19/05/2025\n",
            "\n",
            "- Saque de R$20,00 -\n",
            "\n",
            "Extrato:\n",
            "Número: 123-7\n",
            "Saldo: R$530.00\n",
            "Titular: João Silva (CPF: 123.456.789-00)\n",
            "Data de Abertura: 19/05/2025\n"
          ]
        }
      ]
    },
    {
      "cell_type": "code",
      "source": [
        "# @title Desafio: Crie uma classe Historico que represente o histórico de uma Conta seguindo o exemplo acima\n",
        "\n",
        "class Historico:\n",
        "    def __init__(self):\n",
        "        self.transacoes = []  # Lista vazia das transações realizadas\n",
        "\n",
        "    def nova_transacao(self, operacao):\n",
        "        self.transacoes.append(operacao) # Add no final da lista\n",
        "\n",
        "    def mostrar(self):\n",
        "        print(\"Histórico de transações:\")\n",
        "        for t in self.transacoes:\n",
        "            print(\"-\", t)\n",
        "\n",
        "\n",
        "class Conta:\n",
        "    def __init__(self, numero, titular, saldo, limite):\n",
        "        self.numero = numero\n",
        "        self.titular = titular\n",
        "        self.saldo = saldo\n",
        "        self.limite = limite\n",
        "        self.historico = Historico()  # Cria histórico para esta conta\n",
        "\n",
        "    def deposita(self, valor):\n",
        "        self.saldo += valor\n",
        "        self.historico.nova_transacao(f\"Depósito de R${valor:.2f}\")\n",
        "\n",
        "    def saca(self, valor):\n",
        "        self.saldo -= valor\n",
        "        self.historico.nova_transacao(f\"Saque de R${valor:.2f}\")\n",
        "\n",
        "    def extrato(self):\n",
        "        print(f\"Conta: {self.numero} - Saldo: R${self.saldo:.2f}\")\n",
        "\n",
        "    def mostrar_historico(self):\n",
        "        self.historico.mostrar()\n",
        "\n",
        "\n",
        "# EXEMPLO DE USO\n",
        "if __name__ == \"__main__\":\n",
        "    conta1 = Conta(\"123-7\", \"João\", 500.0, 1000.0)\n",
        "    conta1.deposita(100.0)\n",
        "    conta1.saca(50.0)\n",
        "    conta1.extrato()\n",
        "    conta1.mostrar_historico()\n"
      ],
      "metadata": {
        "colab": {
          "base_uri": "https://localhost:8080/"
        },
        "id": "BWzprepNHLGm",
        "outputId": "213e5348-c96a-43b4-d9ff-25e681b1af19"
      },
      "execution_count": null,
      "outputs": [
        {
          "output_type": "stream",
          "name": "stdout",
          "text": [
            "Conta: 123-7 - Saldo: R$550.00\n",
            "Histórico de transações:\n",
            "- Depósito de R$100.00\n",
            "- Saque de R$50.00\n"
          ]
        }
      ]
    }
  ]
}