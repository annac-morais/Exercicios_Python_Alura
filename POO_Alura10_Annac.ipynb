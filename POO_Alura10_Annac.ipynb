{
  "nbformat": 4,
  "nbformat_minor": 0,
  "metadata": {
    "colab": {
      "provenance": [],
      "authorship_tag": "ABX9TyM0nFyg4IDGnim1qX0wxEyC",
      "include_colab_link": true
    },
    "kernelspec": {
      "name": "python3",
      "display_name": "Python 3"
    },
    "language_info": {
      "name": "python"
    }
  },
  "cells": [
    {
      "cell_type": "markdown",
      "metadata": {
        "id": "view-in-github",
        "colab_type": "text"
      },
      "source": [
        "<a href=\"https://colab.research.google.com/github/annac-morais/Exercicios_Python_Alura/blob/main/POO_Alura10_Annac.ipynb\" target=\"_parent\"><img src=\"https://colab.research.google.com/assets/colab-badge.svg\" alt=\"Open In Colab\"/></a>"
      ]
    },
    {
      "cell_type": "markdown",
      "source": [
        "# **Criando Projeto Banco\n"
      ],
      "metadata": {
        "id": "Wj-ceJpmb_Xr"
      }
    },
    {
      "cell_type": "code",
      "execution_count": null,
      "metadata": {
        "colab": {
          "base_uri": "https://localhost:8080/"
        },
        "id": "RQ8qouQIVrAv",
        "outputId": "21d0416f-bb9e-4760-f5a1-5983cd5d2203"
      },
      "outputs": [
        {
          "output_type": "stream",
          "name": "stdout",
          "text": [
            "\n",
            "=== CONTA 1 ===\n",
            "\n",
            "[Extrato da Conta 123-4]\n",
            "Titular: João Silva\n",
            "Saldo: R$1200.00\n",
            "Limite: R$1000.00\n",
            "\n",
            "[Depósito]\n",
            "Valor depositado: R$300.00\n",
            "Saldo atual: R$1500.00\n",
            "\n",
            "[Saque]\n",
            "Valor sacado: R$200.00\n",
            "Saldo atual: R$1300.00\n",
            "\n",
            "[Transferência]\n",
            "Valor transferido: R$500.00\n",
            "Para: Maria Oliveira\n",
            "Saldo atual: R$800.00\n",
            "\n",
            "=== CONTA 2 ===\n",
            "\n",
            "[Extrato da Conta 567-8]\n",
            "Titular: Maria Oliveira\n",
            "Saldo: R$1050.00\n",
            "Limite: R$1000.00\n"
          ]
        }
      ],
      "source": [
        "# @title Criando Conta e Cliente com Métodos Bancários:\n",
        "\n",
        "class Cliente:\n",
        "    def __init__(self, nome, sobrenome, cpf):\n",
        "        self._nome = nome\n",
        "        self._sobrenome = sobrenome\n",
        "        self._cpf = cpf\n",
        "\n",
        "    def nome_completo(self):\n",
        "        return f\"{self._nome} {self._sobrenome}\"\n",
        "\n",
        "    def exibir_dados(self):\n",
        "        print(f\"Nome: {self._nome} {self._sobrenome}\")\n",
        "        print(f\"CPF: {self._cpf}\")\n",
        "\n",
        "\n",
        "class Conta:\n",
        "    def __init__(self, numero, titular, saldo, limite):\n",
        "        self._numero = numero\n",
        "        self._titular = titular\n",
        "        self._saldo = saldo\n",
        "        self._limite = limite\n",
        "\n",
        "    def deposita(self, valor, mostrar=True): # True - exibe o saldo após o depósito. False (transferência) - não exibe (evita repetição de mensagens).\n",
        "        if valor > 0:\n",
        "            self._saldo += valor\n",
        "            if mostrar:\n",
        "                print(f\"\\n[Depósito]\")\n",
        "                print(f\"Valor depositado: R${valor:.2f}\")\n",
        "                print(f\"Saldo atual: R${self._saldo:.2f}\")\n",
        "        else:\n",
        "            print(\"Valor inválido para depósito.\")\n",
        "\n",
        "    def saca(self, valor): # Verifica se há saldo/ limite suficiente\n",
        "        if valor <= self._saldo + self._limite:\n",
        "            self._saldo -= valor\n",
        "            print(f\"\\n[Saque]\")\n",
        "            print(f\"Valor sacado: R${valor:.2f}\")\n",
        "            print(f\"Saldo atual: R${self._saldo:.2f}\")\n",
        "        else:\n",
        "            print(\"Saldo insuficiente.\")\n",
        "\n",
        "    def extrato(self):\n",
        "        print(f\"\\n[Extrato da Conta {self._numero}]\")\n",
        "        print(f\"Titular: {self._titular.nome_completo()}\")\n",
        "        print(f\"Saldo: R${self._saldo:.2f}\")\n",
        "        print(f\"Limite: R${self._limite:.2f}\")\n",
        "\n",
        "    def transfere_para(self, destino, valor):\n",
        "        if valor <= self._saldo + self._limite:\n",
        "            self._saldo -= valor\n",
        "            destino.deposita(valor, mostrar=False)\n",
        "            print(f\"\\n[Transferência]\")\n",
        "            print(f\"Valor transferido: R${valor:.2f}\")\n",
        "            print(f\"Para: {destino._titular.nome_completo()}\")\n",
        "            print(f\"Saldo atual: R${self._saldo:.2f}\")\n",
        "        else:\n",
        "            print(\"Saldo insuficiente para transferência.\")\n",
        "\n",
        "\n",
        "# EXEMPLO DE USO\n",
        "if __name__ == '__main__': # Garante que o código de teste só será executado quando o arquivo for executado diretamente\n",
        "    cliente1 = Cliente(\"João\", \"Silva\", \"123.456.789-00\")\n",
        "    cliente2 = Cliente(\"Maria\", \"Oliveira\", \"987.654.321-00\")\n",
        "\n",
        "    conta1 = Conta(\"123-4\", cliente1, 1200.0, 1000.0)\n",
        "    conta2 = Conta(\"567-8\", cliente2, 550.0, 1000.0)\n",
        "\n",
        "    print(\"\\n=== CONTA 1 ===\")\n",
        "    conta1.extrato()\n",
        "\n",
        "    conta1.deposita(300)\n",
        "    conta1.saca(200)\n",
        "    conta1.transfere_para(conta2, 500)\n",
        "\n",
        "    print(\"\\n=== CONTA 2 ===\")\n",
        "    conta2.extrato()\n"
      ]
    }
  ]
}