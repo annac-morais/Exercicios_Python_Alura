{
  "nbformat": 4,
  "nbformat_minor": 0,
  "metadata": {
    "colab": {
      "provenance": [],
      "authorship_tag": "ABX9TyNZz2ELoAIIwzFg/gfq2mTh",
      "include_colab_link": true
    },
    "kernelspec": {
      "name": "python3",
      "display_name": "Python 3"
    },
    "language_info": {
      "name": "python"
    }
  },
  "cells": [
    {
      "cell_type": "markdown",
      "metadata": {
        "id": "view-in-github",
        "colab_type": "text"
      },
      "source": [
        "<a href=\"https://colab.research.google.com/github/annac-morais/Exercicios_Python_Alura/blob/main/POO_Alura12_Annac.ipynb\" target=\"_parent\"><img src=\"https://colab.research.google.com/assets/colab-badge.svg\" alt=\"Open In Colab\"/></a>"
      ]
    },
    {
      "cell_type": "markdown",
      "source": [
        "# **Herança Múltipla e Interfaces**"
      ],
      "metadata": {
        "id": "b4pHVzKtGMEw"
      }
    },
    {
      "cell_type": "code",
      "execution_count": null,
      "metadata": {
        "colab": {
          "base_uri": "https://localhost:8080/"
        },
        "id": "u961whVqvUss",
        "outputId": "b0d4e067-5f99-46f9-f732-de3e87fe5bff"
      },
      "outputs": [
        {
          "output_type": "stream",
          "name": "stdout",
          "text": [
            "Total de impostos: R$145.00\n"
          ]
        }
      ],
      "source": [
        "# @title Mix-Ins: uma classe que não se destina a ser independente - existe para adicionar funcionalidade extra a outra classe através de herança múltipla.\n",
        "\n",
        "# SISTEMA DE CÁLCULO DE IMPOSTOS PARA CB E SV\n",
        "\n",
        "class TributavelMixIn:\n",
        "    def get_valor_imposto(self): # Obriga que quem herdar tenha o método get_valor_imposto\n",
        "        raise NotImplementedError(\"Subclasses devem implementar get_valor_imposto\") # Sinaliza erro ou exceção\n",
        "\n",
        "\n",
        "class Conta:\n",
        "    def __init__(self, numero, titular, saldo=0.0):\n",
        "        self._numero = numero\n",
        "        self._titular = titular\n",
        "        self._saldo = saldo\n",
        "\n",
        "    def deposita(self, valor):\n",
        "        self._saldo += valor\n",
        "\n",
        "    def saca(self, valor):\n",
        "        if valor <= self._saldo:\n",
        "            self._saldo -= valor\n",
        "            return True\n",
        "        return False\n",
        "\n",
        "    def get_saldo(self):\n",
        "        return self._saldo\n",
        "\n",
        "\n",
        "class ContaCorrente(Conta, TributavelMixIn): # Herda duas classes\n",
        "    def get_valor_imposto(self):\n",
        "        return self._saldo * 0.01\n",
        "\n",
        "\n",
        "class SeguroDeVida(TributavelMixIn):\n",
        "    def __init__(self, valor, titular, numero_apolice):\n",
        "        self._valor = valor\n",
        "        self._titular = titular\n",
        "        self._numero_apolice = numero_apolice\n",
        "\n",
        "    def get_valor_imposto(self):\n",
        "        return 50 + self._valor * 0.05\n",
        "\n",
        "\n",
        "class ManipuladorDeTributaveis:\n",
        "    def calcula_impostos(self, lista_tributaveis):\n",
        "        total = 0\n",
        "        for t in lista_tributaveis:\n",
        "            total += t.get_valor_imposto() # Pega tudo da lista e soma\n",
        "        return total\n",
        "\n",
        "# EXEMPLO DE USO:\n",
        "\n",
        "if __name__ == '__main__':\n",
        "    cc1 = ContaCorrente('123-4', 'João', 1000.0)\n",
        "    cc2 = ContaCorrente('567-8', 'José', 2000.0)\n",
        "    seguro1 = SeguroDeVida(100.0, 'José', '345-77')\n",
        "    seguro2 = SeguroDeVida(200.0, 'Maria', '237-98')\n",
        "\n",
        "    lista_tributaveis = [cc1, cc2, seguro1, seguro2]\n",
        "\n",
        "    manipulador = ManipuladorDeTributaveis()\n",
        "    total = manipulador.calcula_impostos(lista_tributaveis)\n",
        "\n",
        "    print(f\"Total de impostos: R${total:.2f}\")\n"
      ]
    },
    {
      "cell_type": "code",
      "source": [
        "# @title Interfaces e aulas Resumos:\n",
        "\n",
        "# SISTEMA ANTERIOR SEM MIX-IN\n",
        "\n",
        "import abc\n",
        "\n",
        "class Tributavel(abc.ABC):\n",
        "    \"\"\"Classe que contém operações de um objeto tributável.\n",
        "\n",
        "    As subclasses concretas devem sobrescrever o método get_valor_imposto.\n",
        "    \"\"\"\n",
        "\n",
        "    @abc.abstractmethod\n",
        "    def get_valor_imposto(self):\n",
        "        \"\"\"Aplica taxa de imposto sobre um determinado valor do objeto\"\"\"\n",
        "        pass\n",
        "\n",
        "\n",
        "class Conta:\n",
        "    def __init__(self, titular, numero, saldo=0.0):\n",
        "        self._titular = titular\n",
        "        self._numero = numero\n",
        "        self._saldo = saldo\n",
        "\n",
        "    def deposita(self, valor):\n",
        "        self._saldo += valor\n",
        "\n",
        "    def saca(self, valor):\n",
        "        if valor <= self._saldo:\n",
        "            self._saldo -= valor\n",
        "            return True\n",
        "        return False\n",
        "\n",
        "    def get_saldo(self):\n",
        "        return self._saldo\n",
        "\n",
        "    def __repr__(self):\n",
        "        return f\"<{self.__class__.__name__} de {self._titular}>\"\n",
        "\n",
        "\n",
        "class ContaCorrente(Conta): # As classes não herdam diretamente de Tributavel como antes\n",
        "    def get_valor_imposto(self):\n",
        "        return self._saldo * 0.01\n",
        "\n",
        "\n",
        "class ContaPoupanca(Conta):\n",
        "    pass\n",
        "\n",
        "class SeguroDeVida:\n",
        "    def __init__(self, valor, titular, numero_apolice):\n",
        "        self._valor = valor\n",
        "        self._titular = titular\n",
        "        self._numero_apolice = numero_apolice\n",
        "\n",
        "    def get_valor_imposto(self):\n",
        "        return 50 + self._valor * 0.05\n",
        "\n",
        "    def __repr__(self):\n",
        "        return f\"<SeguroDeVida de {self._titular}>\"\n",
        "\n",
        "\n",
        "class ContaInvestimento(Conta):\n",
        "    def atualiza(self, taxa):\n",
        "        self._saldo += self._saldo * taxa * 5\n",
        "\n",
        "    def get_valor_imposto(self):\n",
        "        return self._saldo * 0.03\n",
        "\n",
        "\n",
        "class ManipuladorDeTributaveis:\n",
        "    def calcula_impostos(self, lista_tributaveis):\n",
        "        total = 0\n",
        "        for t in lista_tributaveis:\n",
        "            if isinstance(t, Tributavel):\n",
        "                total += t.get_valor_imposto()\n",
        "            else:\n",
        "                print(f\"{t} não é um tributável\")\n",
        "        return total\n",
        "\n",
        "\n",
        "# EXEMPLO DE USO:\n",
        "\n",
        "if __name__ == \"__main__\":\n",
        "    cc = ContaCorrente('João', '123-4')\n",
        "    cc.deposita(1000.0)\n",
        "\n",
        "    seguro = SeguroDeVida(100.0, 'José', '345-77')\n",
        "\n",
        "    cp = ContaPoupanca('Maria', '123-6')\n",
        "\n",
        "    ci = ContaInvestimento('Ana', '123-0')\n",
        "    ci.deposita(100.0)\n",
        "\n",
        "    # Registrando classes como tributáveis já que não herdam diretamente\n",
        "    Tributavel.register(ContaCorrente)\n",
        "    Tributavel.register(SeguroDeVida)\n",
        "    Tributavel.register(ContaInvestimento)\n",
        "         # Se tem get_valor_imposto(), é tributável! Mas para o Python reconhecer, precisa registrar!\n",
        "\n",
        "    lista_tributaveis = [cc, seguro, cp, ci]\n",
        "\n",
        "    mt = ManipuladorDeTributaveis()\n",
        "    total = mt.calcula_impostos(lista_tributaveis)\n",
        "\n",
        "    print(f\"Total de impostos: R${total:.2f}\")\n"
      ],
      "metadata": {
        "colab": {
          "base_uri": "https://localhost:8080/"
        },
        "id": "moGCBX7hEQUK",
        "outputId": "bc07fce4-c4de-40e6-cdfd-786fdb2f6c64"
      },
      "execution_count": null,
      "outputs": [
        {
          "output_type": "stream",
          "name": "stdout",
          "text": [
            "<ContaPoupanca de Maria> não é um tributável\n",
            "Total de impostos: R$68.00\n"
          ]
        }
      ]
    }
  ]
}
